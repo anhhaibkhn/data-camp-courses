{
  "nbformat": 4,
  "nbformat_minor": 0,
  "metadata": {
    "colab": {
      "name": "DataCamp_Python_Programming_Test_Collection.ipynb",
      "provenance": [],
      "collapsed_sections": [],
      "authorship_tag": "ABX9TyMTTM9FLWr5hpkwYR8lRnv5",
      "include_colab_link": true
    },
    "kernelspec": {
      "name": "python3",
      "display_name": "Python 3"
    }
  },
  "cells": [
    {
      "cell_type": "markdown",
      "metadata": {
        "id": "view-in-github",
        "colab_type": "text"
      },
      "source": [
        "<a href=\"https://colab.research.google.com/github/anhhaibkhn/data-camp-courses/blob/main/DataCamp_Python_Programming_Test_Collection.ipynb\" target=\"_parent\"><img src=\"https://colab.research.google.com/assets/colab-badge.svg\" alt=\"Open In Colab\"/></a>"
      ]
    },
    {
      "cell_type": "code",
      "metadata": {
        "colab": {
          "base_uri": "https://localhost:8080/",
          "height": 35
        },
        "id": "Lm2-N9kl-fft",
        "outputId": "bc08b479-6d4b-4262-a5e7-7b5ebe0714db"
      },
      "source": [
        "s = \"a\"\r\n",
        "s.center(3)"
      ],
      "execution_count": 1,
      "outputs": [
        {
          "output_type": "execute_result",
          "data": {
            "application/vnd.google.colaboratory.intrinsic+json": {
              "type": "string"
            },
            "text/plain": [
              "' a '"
            ]
          },
          "metadata": {
            "tags": []
          },
          "execution_count": 1
        }
      ]
    },
    {
      "cell_type": "code",
      "metadata": {
        "colab": {
          "base_uri": "https://localhost:8080/"
        },
        "id": "ZhIzCF8E-89T",
        "outputId": "c443cde6-1a9e-4846-cab4-6efecf0ebe7f"
      },
      "source": [
        "x = (i for i in range(5))\r\n",
        "next(x)"
      ],
      "execution_count": 2,
      "outputs": [
        {
          "output_type": "execute_result",
          "data": {
            "text/plain": [
              "0"
            ]
          },
          "metadata": {
            "tags": []
          },
          "execution_count": 2
        }
      ]
    },
    {
      "cell_type": "code",
      "metadata": {
        "colab": {
          "base_uri": "https://localhost:8080/"
        },
        "id": "UDnOlpMV_ALT",
        "outputId": "315a984a-3061-4822-a65b-76423c2e9e5f"
      },
      "source": [
        "d = {'one': 1,'two': 2,'three': 3,'four': 4 }\r\n",
        "\r\n",
        "d.get('three')"
      ],
      "execution_count": 3,
      "outputs": [
        {
          "output_type": "execute_result",
          "data": {
            "text/plain": [
              "3"
            ]
          },
          "metadata": {
            "tags": []
          },
          "execution_count": 3
        }
      ]
    },
    {
      "cell_type": "code",
      "metadata": {
        "colab": {
          "base_uri": "https://localhost:8080/"
        },
        "id": "1rdJ7EqF_B2r",
        "outputId": "42051b62-5deb-4a8a-db82-de748d3c9caf"
      },
      "source": [
        "'''The function sample has been written using a for loop, as shown below. \r\n",
        "Using a list comprehension, create a more efficient version of this function.'''\r\n",
        "def sample(n):\r\n",
        "    x = []\r\n",
        "    for i in range(n):\r\n",
        "        x.append(random.random())\r\n",
        "    return x\r\n",
        "\r\n",
        "import random\r\n",
        "random.seed(2427)\r\n",
        "\r\n",
        "# more efficient version: \r\n",
        "def efficient_sample(n):\r\n",
        "  x = [random.random() for i in range(n)]\r\n",
        "  return x\r\n",
        "\r\n",
        "efficient_sample(20)"
      ],
      "execution_count": 4,
      "outputs": [
        {
          "output_type": "execute_result",
          "data": {
            "text/plain": [
              "[0.6709313964859867,\n",
              " 0.9738115340563225,\n",
              " 0.6064264401595373,\n",
              " 0.4066259803173813,\n",
              " 0.241007454546324,\n",
              " 0.9570332484250537,\n",
              " 0.2349020347673353,\n",
              " 0.8876755137054037,\n",
              " 0.9720131163571095,\n",
              " 0.1492980772443857,\n",
              " 0.9414046155591562,\n",
              " 0.5597323750561738,\n",
              " 0.7608989127589141,\n",
              " 0.5249642801198838,\n",
              " 0.1344891272249087,\n",
              " 0.9796560039964438,\n",
              " 0.06863221669260322,\n",
              " 0.8766064411366202,\n",
              " 0.5504489926930571,\n",
              " 0.4880661379761838]"
            ]
          },
          "metadata": {
            "tags": []
          },
          "execution_count": 4
        }
      ]
    },
    {
      "cell_type": "code",
      "metadata": {
        "colab": {
          "base_uri": "https://localhost:8080/"
        },
        "id": "fH7bzMpM_hW3",
        "outputId": "bdeb7941-8445-4a3b-ffae-ee4735b30658"
      },
      "source": [
        "a = {1, 2, 3, 4}\r\n",
        "b = {3, 4, 5, 6}\r\n",
        "\r\n",
        "a.difference(b)"
      ],
      "execution_count": 5,
      "outputs": [
        {
          "output_type": "execute_result",
          "data": {
            "text/plain": [
              "{1, 2}"
            ]
          },
          "metadata": {
            "tags": []
          },
          "execution_count": 5
        }
      ]
    },
    {
      "cell_type": "code",
      "metadata": {
        "colab": {
          "base_uri": "https://localhost:8080/",
          "height": 35
        },
        "id": "q5JZewER_ibx",
        "outputId": "196e5eea-c673-491f-d2e5-522488e8e7a3"
      },
      "source": [
        "class Person:\r\n",
        "    def __init__(self, name): # this line\r\n",
        "        self.name = name\r\n",
        "\r\n",
        "m = Person('Michael')\r\n",
        "\r\n",
        "m.name"
      ],
      "execution_count": 6,
      "outputs": [
        {
          "output_type": "execute_result",
          "data": {
            "application/vnd.google.colaboratory.intrinsic+json": {
              "type": "string"
            },
            "text/plain": [
              "'Michael'"
            ]
          },
          "metadata": {
            "tags": []
          },
          "execution_count": 6
        }
      ]
    },
    {
      "cell_type": "code",
      "metadata": {
        "colab": {
          "base_uri": "https://localhost:8080/"
        },
        "id": "3AcxNfjO_ogZ",
        "outputId": "1e2b0ba6-1df6-4be2-dad1-102763170895"
      },
      "source": [
        "'''Complete the code to return the output \r\n",
        "output:   [3, 4]\r\n",
        "'''\r\n",
        "\r\n",
        "[i for i in range(5) if i > 2]"
      ],
      "execution_count": 7,
      "outputs": [
        {
          "output_type": "execute_result",
          "data": {
            "text/plain": [
              "[3, 4]"
            ]
          },
          "metadata": {
            "tags": []
          },
          "execution_count": 7
        }
      ]
    },
    {
      "cell_type": "code",
      "metadata": {
        "colab": {
          "base_uri": "https://localhost:8080/"
        },
        "id": "c_F1hl1S_v0Z",
        "outputId": "25955251-8086-4cd0-f092-d42fa48085b5"
      },
      "source": [
        "[i *2 for i in range(5)]"
      ],
      "execution_count": 8,
      "outputs": [
        {
          "output_type": "execute_result",
          "data": {
            "text/plain": [
              "[0, 2, 4, 6, 8]"
            ]
          },
          "metadata": {
            "tags": []
          },
          "execution_count": 8
        }
      ]
    },
    {
      "cell_type": "code",
      "metadata": {
        "colab": {
          "base_uri": "https://localhost:8080/",
          "height": 35
        },
        "id": "tDPDot3f_z96",
        "outputId": "050b4f36-5394-4813-d005-8f5dac3f5e81"
      },
      "source": [
        "''' Complete the code to return the output \r\n",
        "output: 'numpy'\r\n",
        "'''\r\n",
        "lst = ['numpy', 'pandas', 'requests']\r\n",
        "lst_gen = (pkg for pkg in lst)\r\n",
        "next(lst_gen)"
      ],
      "execution_count": 9,
      "outputs": [
        {
          "output_type": "execute_result",
          "data": {
            "application/vnd.google.colaboratory.intrinsic+json": {
              "type": "string"
            },
            "text/plain": [
              "'numpy'"
            ]
          },
          "metadata": {
            "tags": []
          },
          "execution_count": 9
        }
      ]
    },
    {
      "cell_type": "code",
      "metadata": {
        "colab": {
          "base_uri": "https://localhost:8080/"
        },
        "id": "vqs7rQgnABiC",
        "outputId": "20d84510-403d-453d-934a-342faa4d3d58"
      },
      "source": [
        "def add_many (*args):\r\n",
        "    s = 0\r\n",
        "    for n in args:\r\n",
        "        s += n\r\n",
        "    print(s)\r\n",
        "\r\n",
        "add_many(100, 50, 3)"
      ],
      "execution_count": 12,
      "outputs": [
        {
          "output_type": "stream",
          "text": [
            "153\n"
          ],
          "name": "stdout"
        }
      ]
    },
    {
      "cell_type": "code",
      "metadata": {
        "colab": {
          "base_uri": "https://localhost:8080/"
        },
        "id": "gu22a2fUA9VR",
        "outputId": "95c1dc1a-3340-47af-df21-c59faec5a2c1"
      },
      "source": [
        "a = {1, 2, 3}\r\n",
        "b = {4, 5, 6}\r\n",
        "\r\n",
        "a.union(b)"
      ],
      "execution_count": 13,
      "outputs": [
        {
          "output_type": "execute_result",
          "data": {
            "text/plain": [
              "{1, 2, 3, 4, 5, 6}"
            ]
          },
          "metadata": {
            "tags": []
          },
          "execution_count": 13
        }
      ]
    },
    {
      "cell_type": "code",
      "metadata": {
        "colab": {
          "base_uri": "https://localhost:8080/"
        },
        "id": "0VHaYGTYBvFp",
        "outputId": "8661acd9-4b18-478e-d77e-8e7b40bbef39"
      },
      "source": [
        "a = {1, 2, 3}\r\n",
        "b = {3, 4, 5, 6}\r\n",
        "\r\n",
        "a & b # damn"
      ],
      "execution_count": 18,
      "outputs": [
        {
          "output_type": "execute_result",
          "data": {
            "text/plain": [
              "{3}"
            ]
          },
          "metadata": {
            "tags": []
          },
          "execution_count": 18
        }
      ]
    },
    {
      "cell_type": "code",
      "metadata": {
        "colab": {
          "base_uri": "https://localhost:8080/"
        },
        "id": "QTODe2SICG2x",
        "outputId": "993eae00-3612-403f-8ae2-beda5a0bed96"
      },
      "source": [
        "class GenericClass:\r\n",
        "    version = 1\r\n",
        "    \r\n",
        "    def __init__(self):\r\n",
        "        pass\r\n",
        "\r\n",
        "class CompositeClass:\r\n",
        "    def __init__(self):\r\n",
        "        \r\n",
        "        self.generic = GenericClass() # this was the line\r\n",
        "        self.version = self.generic.version\r\n",
        "\r\n",
        "c = CompositeClass()\r\n",
        "print(c.version)    "
      ],
      "execution_count": 20,
      "outputs": [
        {
          "output_type": "stream",
          "text": [
            "1\n"
          ],
          "name": "stdout"
        }
      ]
    },
    {
      "cell_type": "code",
      "metadata": {
        "colab": {
          "base_uri": "https://localhost:8080/",
          "height": 35
        },
        "id": "Un_xpG72ClXp",
        "outputId": "4d412a0e-011d-450c-a478-078f00a05196"
      },
      "source": [
        "class Cat:   \r\n",
        "    def meow(self): # self\r\n",
        "        return 'meow!'\r\n",
        "\r\n",
        "s = Cat()\r\n",
        "s.meow()"
      ],
      "execution_count": 26,
      "outputs": [
        {
          "output_type": "execute_result",
          "data": {
            "application/vnd.google.colaboratory.intrinsic+json": {
              "type": "string"
            },
            "text/plain": [
              "'meow!'"
            ]
          },
          "metadata": {
            "tags": []
          },
          "execution_count": 26
        }
      ]
    },
    {
      "cell_type": "code",
      "metadata": {
        "colab": {
          "base_uri": "https://localhost:8080/",
          "height": 35
        },
        "id": "B48DslFXCwlh",
        "outputId": "c0995f08-6956-4d47-b0b7-a551f72d3e8d"
      },
      "source": [
        "def factorial(n):\r\n",
        "    \"\"\"returns n!\"\"\"\r\n",
        "    return 1 if n < 2 else n * factorial(n-1)\r\n",
        "\r\n",
        "factorial.__doc__ # this is it doc string"
      ],
      "execution_count": 27,
      "outputs": [
        {
          "output_type": "execute_result",
          "data": {
            "application/vnd.google.colaboratory.intrinsic+json": {
              "type": "string"
            },
            "text/plain": [
              "'returns n!'"
            ]
          },
          "metadata": {
            "tags": []
          },
          "execution_count": 27
        }
      ]
    },
    {
      "cell_type": "code",
      "metadata": {
        "colab": {
          "base_uri": "https://localhost:8080/"
        },
        "id": "9dcN5PSnDl8R",
        "outputId": "40d44400-4556-4437-d31f-7d5fcedc3a14"
      },
      "source": [
        "def make_dict(**kwargs): #\r\n",
        "    return kwargs\r\n",
        "\r\n",
        "make_dict(a = 1, b = 2)"
      ],
      "execution_count": 29,
      "outputs": [
        {
          "output_type": "execute_result",
          "data": {
            "text/plain": [
              "{'a': 1, 'b': 2}"
            ]
          },
          "metadata": {
            "tags": []
          },
          "execution_count": 29
        }
      ]
    },
    {
      "cell_type": "code",
      "metadata": {
        "colab": {
          "base_uri": "https://localhost:8080/"
        },
        "id": "TmR5GQJ5DsKw",
        "outputId": "c07392c3-59e4-4a32-d3d1-b8516c2fe876"
      },
      "source": [
        "for i in \"hello\":\r\n",
        "  if i == \"l\":\r\n",
        "      continue\r\n",
        "\r\n",
        "  print(i)"
      ],
      "execution_count": 30,
      "outputs": [
        {
          "output_type": "stream",
          "text": [
            "h\n",
            "e\n",
            "o\n"
          ],
          "name": "stdout"
        }
      ]
    },
    {
      "cell_type": "code",
      "metadata": {
        "colab": {
          "base_uri": "https://localhost:8080/",
          "height": 35
        },
        "id": "niicBCpoD33Y",
        "outputId": "ec782ca7-2ebd-4b91-a07b-6591b9ca6a99"
      },
      "source": [
        "s = \"fox\"\r\n",
        "\r\n",
        "s.rjust(4)"
      ],
      "execution_count": 33,
      "outputs": [
        {
          "output_type": "execute_result",
          "data": {
            "application/vnd.google.colaboratory.intrinsic+json": {
              "type": "string"
            },
            "text/plain": [
              "' fox'"
            ]
          },
          "metadata": {
            "tags": []
          },
          "execution_count": 33
        }
      ]
    },
    {
      "cell_type": "code",
      "metadata": {
        "colab": {
          "base_uri": "https://localhost:8080/"
        },
        "id": "9Kxf0pEDD8t4",
        "outputId": "4eaf3181-7e13-4a5e-b5ad-5e6e93f34d6f"
      },
      "source": [
        "fruits = {\r\n",
        "    'apple': 1,\r\n",
        "    'banana': 2,\r\n",
        "    'coconut': 3\r\n",
        "}\r\n",
        "\r\n",
        "del(fruits['coconut'])\r\n",
        "fruits"
      ],
      "execution_count": 37,
      "outputs": [
        {
          "output_type": "execute_result",
          "data": {
            "text/plain": [
              "{'apple': 1, 'banana': 2}"
            ]
          },
          "metadata": {
            "tags": []
          },
          "execution_count": 37
        }
      ]
    },
    {
      "cell_type": "code",
      "metadata": {
        "colab": {
          "base_uri": "https://localhost:8080/"
        },
        "id": "HE8dn1GeEeJx",
        "outputId": "74c6dff5-9e46-40c1-efc1-47786f56be64"
      },
      "source": [
        "import numpy as np\r\n",
        "\r\n",
        "arr = np.array([[1,0],[0,1]]) # this was the line\r\n",
        "print(arr)"
      ],
      "execution_count": 35,
      "outputs": [
        {
          "output_type": "execute_result",
          "data": {
            "text/plain": [
              "{'apple': 1, 'banana': 2}"
            ]
          },
          "metadata": {
            "tags": []
          },
          "execution_count": 35
        }
      ]
    },
    {
      "cell_type": "code",
      "metadata": {
        "id": "dN0KmtBDEz0g"
      },
      "source": [
        "\"\"\" HARD questions \r\n",
        "The docstring of the decorated hello() function is not displayed when it is accessed using hello.__doc__.\r\n",
        " Add the necessary code so that docstring of hello() can be accessed\r\n",
        " Expected Output:\r\n",
        "'Returns a Hello World string'\r\n",
        "\"\"\"\r\n",
        "from functools import wraps ###\r\n",
        "\r\n",
        "def lowercase_decorator(function):\r\n",
        "    \"\"\"Changes the case of result of the decorated func\"\"\"\r\n",
        "    @wraps(function) ###\r\n",
        "    def wrapper():\r\n",
        "        func = function()\r\n",
        "        string_lowercase = func.lower()\r\n",
        "        return string_lowercase\r\n",
        "    return wrapper\r\n",
        "\r\n",
        "@lowercase_decorator\r\n",
        "def hello():\r\n",
        "    \"\"\"Returns a Hello World string\"\"\"\r\n",
        "    return 'Hello World'\r\n",
        "  \r\n",
        "hello.__doc__\r\n"
      ],
      "execution_count": null,
      "outputs": []
    },
    {
      "cell_type": "code",
      "metadata": {
        "id": "pV1zSYnLGDdV"
      },
      "source": [
        "def factorial(n):\r\n",
        "    \"\"\"returns n!\"\"\"\r\n",
        "    return 1 if n < 2 else n * factorial(n-1)\r\n",
        "\r\n",
        "\r\n",
        "factorial.__doc__ ### to see the docstrings of the fucntion"
      ],
      "execution_count": null,
      "outputs": []
    },
    {
      "cell_type": "code",
      "metadata": {
        "id": "ZzEtDivpGK2d"
      },
      "source": [
        "\"\"\" HARD Question \r\n",
        "Decorate the adder() and subtractor functions so that the result of the adder function is \r\n",
        "multiplied by 2 and the result of the subtract function is multiplied by 3\r\n",
        "Expected Output:\r\n",
        "10\r\n",
        "-3\r\n",
        "\"\"\"\r\n",
        "\r\n",
        "def multiply(by = None):\r\n",
        "\tdef multiply_real_decorator(function):\r\n",
        "\t\tdef wrapper(*args,**kwargs):\r\n",
        "\t\t\treturn by * function(*args,**kwargs)\r\n",
        "\t\treturn wrapper\r\n",
        "\treturn multiply_real_decorator\r\n",
        "\r\n",
        "@multiply(by = 2) ###\r\n",
        "def adder(a,b):\r\n",
        "  return a + b\r\n",
        "\r\n",
        "\r\n",
        "@multiply(by = 3) ### \r\n",
        "def subtractor(a,b):\r\n",
        "  return a - b\r\n",
        "\r\n",
        "print(adder(2,3))\r\n",
        "print(subtractor(2,3))"
      ],
      "execution_count": null,
      "outputs": []
    }
  ]
}